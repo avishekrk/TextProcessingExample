{
 "cells": [
  {
   "cell_type": "markdown",
   "metadata": {},
   "source": [
    "# Text Analysis (Adapted from Garren Gaut's 2016 Tutorial)\n",
    "\n",
    "---\n",
    "\n",
    "## Introduction\n",
    "\n",
    "Text Analysis is used for summarizing or getting useful information out of a large amount of  unstructured text stored in documents. This opens up the oppurtunity of using text data alongside more conventional data sources (e.g, surveys and administrative data). The goal of text analysis is to take a large corpus of complex and unstructured text data and extract important and meaningful messages in a comprehensible meaningful way. \n",
    "\n",
    "Text Analysis can help with the following tasks:\n",
    "\n",
    "* **Searches and informationa retrieval**: Help find relevant information in large databases such as a systematic literature review. \n",
    "\n",
    "* **Clustering and text categorization**: Techniques like topic modelling modeling can summarize a large corpus of text by finding the most important phrases. \n",
    "\n",
    "* **Text Summarization**: Create category-sensitive text summaries of a large corpus of text. \n",
    "\n",
    "* **Machine Translation**: Translate from one language to another. \n",
    "\n",
    "In this tutorial we are going to analyze reddit posts from May 2015 in order to classify whocj subreddit a post origniated from and also do topic modelling to categorize posts. \n",
    "\n",
    "\n",
    "## Glossary of Terms\n",
    "\n",
    "* **Tokenize**: Tokenization is the process by which text is sepearated into meaningful terms or phrases. For instance, separating sentences using punctuation. \n",
    "\n",
    "* **Stemming**: Stemming is a type of text normalization where words that have different forms but their essential meaning are normalized to the original dictionary form of a word. For example \"go,\" \"went,\" and \"goes\" all stem from the lemma \"go.\"\n",
    "\n",
    "* **TFIDF**: TFIDF (Term frequency-inverse document frequency) is an example of feature enginnering where the most important words are extracted by taking account their frequency in documents and the entire corpus of documents as a whole.\n",
    "\n",
    "* **Topic Modelling**: Topic modeling is an unsupervised learning method where groups of co-occuring words are clustered into topics. Typically, the words in a a cluster should be related and make sense (e.g, boat, ship, captain). Individual documents will then fall into multiple topics. \n",
    "\n",
    "* **LDA**: LDA (latent Dirichlet allocation) is a type of probabilistic model commonly used for topic modelling. \n",
    "\n",
    "* **Stop Words**: Stop words are words that have little semantic meaning like prepositions, articles and common nouns. They can often be ingnored. \n",
    "\n",
    "\n",
    "## Table of Contents\n",
    " - [Data Source](#Data-Source:-Reddit-Comments-from-May-2015-in-JSON-format)\n",
    " - [Preprocess](#Preprocess-the-data)\n",
    " - [Supervised Learning](#Supervised-Learning:-Identify-the-Subreddit-Section)\n",
    " - [Unsupervised Learning](#Topic-Modeling:-Unsupervised-Learning )\n",
    " \n",
    " ---"
   ]
  },
  {
   "cell_type": "code",
   "execution_count": 1,
   "metadata": {
    "collapsed": false
   },
   "outputs": [
    {
     "name": "stdout",
     "output_type": "stream",
     "text": [
      "Populating the interactive namespace from numpy and matplotlib\n",
      "[nltk_data] Downloading package stopwords to /home/akumar/nltk_data...\n",
      "[nltk_data]   Package stopwords is already up-to-date!\n"
     ]
    },
    {
     "data": {
      "text/plain": [
       "True"
      ]
     },
     "execution_count": 1,
     "metadata": {},
     "output_type": "execute_result"
    }
   ],
   "source": [
    "%pylab inline \n",
    "import nltk\n",
    "import ujson\n",
    "import re\n",
    "import time\n",
    "\n",
    "from sklearn.feature_extraction.text import CountVectorizer, TfidfTransformer\n",
    "from sklearn.decomposition import LatentDirichletAllocation\n",
    "from sklearn.linear_model import LogisticRegression\n",
    "from sklearn.metrics import precision_recall_curve, roc_auc_score\n",
    "from sklearn import preprocessing\n",
    "from collections import Counter, OrderedDict\n",
    "from nltk.corpus import stopwords\n",
    "from nltk import SnowballStemmer\n",
    "\n",
    "nltk.download('stopwords') #download the latest stopwords"
   ]
  },
  {
   "cell_type": "code",
   "execution_count": 2,
   "metadata": {
    "collapsed": false
   },
   "outputs": [],
   "source": [
    "def load_reddit(fname, ls_subreddits=[], MIN_CHAR=30):\n",
    "    \"\"\"\n",
    "    Loads Reddit Comments from a json file based on \n",
    "    whether they are in the selected subreddits and \n",
    "    have more than the MIN_CHARACTERS\n",
    "    \n",
    "    Parameters\n",
    "    ----------\n",
    "    fname: str\n",
    "        filename\n",
    "    ls_subreddits: ls[str]\n",
    "        list of subreddits to select from \n",
    "    MIN_CHAR: int\n",
    "        minimum number of characters necessary to select\n",
    "        a comment\n",
    "        \n",
    "    Returns\n",
    "    -------\n",
    "    corpus: ls[str]\n",
    "        list of selected reddit comments\n",
    "    subreddit_id: array[int]\n",
    "        np.array of indices that match with the ls_subreddit\n",
    "        index \n",
    "    \"\"\"\n",
    "    corpus = []\n",
    "    subreddit_id = []\n",
    "    with open(fname, 'r') as infile:\n",
    "        for line in infile:\n",
    "            dict_reddit_post =  ujson.loads(line)\n",
    "            subreddit = dict_reddit_post['subreddit']\n",
    "            n_characters = len( dict_reddit_post['body'] )\n",
    "            \n",
    "            if ls_subreddits: #check that the list is not empty\n",
    "                in_ls_subreddits = subreddit in ls_subreddits\n",
    "            else:\n",
    "                in_ls_subreddits = True\n",
    "            \n",
    "            grter_than_min = n_characters > MIN_CHAR\n",
    "            \n",
    "            if ( grter_than_min and in_ls_subreddits ):\n",
    "                corpus.append(dict_reddit_post['body'])\n",
    "                subreddit_id.append(subreddit)\n",
    "                \n",
    "    return np.array(corpus), np.array(subreddit_id)"
   ]
  },
  {
   "cell_type": "code",
   "execution_count": 3,
   "metadata": {
    "collapsed": true
   },
   "outputs": [],
   "source": [
    "def plot_precision_recall_n(y_true, y_prob, model_name):\n",
    "    from sklearn.metrics import precision_recall_curve\n",
    "    y_score = y_prob\n",
    "    precision_curve, recall_curve, pr_thresholds = precision_recall_curve(y_true, y_score)\n",
    "    precision_curve = precision_curve[:-1]\n",
    "    recall_curve = recall_curve[:-1]\n",
    "    pct_above_per_thresh = []\n",
    "    number_scored = len(y_score)\n",
    "    for value in pr_thresholds:\n",
    "        num_above_thresh = len(y_score[y_score>=value])\n",
    "        pct_above_thresh = num_above_thresh / float(number_scored)\n",
    "        pct_above_per_thresh.append(pct_above_thresh)\n",
    "    pct_above_per_thresh = np.array(pct_above_per_thresh)\n",
    "    plt.clf()\n",
    "    fig, ax1 = plt.subplots()\n",
    "    ax1.plot(pct_above_per_thresh, precision_curve, 'b')\n",
    "    ax1.set_xlabel('percent of population')\n",
    "    ax1.set_ylabel('precision', color='b')\n",
    "    ax2 = ax1.twinx()\n",
    "    ax2.plot(pct_above_per_thresh, recall_curve, 'r')\n",
    "    ax2.set_ylabel('recall', color='r')\n",
    "    \n",
    "    name = model_name\n",
    "    plt.title(name)\n",
    "    #plt.savefig(name)\n",
    "    plt.show()"
   ]
  },
  {
   "cell_type": "markdown",
   "metadata": {},
   "source": [
    "## Load Data\n",
    "\n",
    "### Data Source: Reddit Comments from May 2015 in JSON format\n",
    "\n",
    "For the superivised learning portion of the tutorial we will being attempting to classify whether reddit threads have come from the SucideWatch or depression. These two threads should be somewhat similiar so it poses a non-trivial challenge for a classifier."
   ]
  },
  {
   "cell_type": "code",
   "execution_count": 4,
   "metadata": {
    "collapsed": false
   },
   "outputs": [],
   "source": [
    "#grab data from the following subreddits\n",
    "ls_subreddits = ['SuicideWatch', 'depression']\n",
    "[corpus, subreddit_id] = load_reddit('./data/RC_2015-05.json', ls_subreddits, MIN_CHAR=30)"
   ]
  },
  {
   "cell_type": "markdown",
   "metadata": {},
   "source": [
    "## Preprocess the data"
   ]
  },
  {
   "cell_type": "code",
   "execution_count": 5,
   "metadata": {
    "collapsed": false
   },
   "outputs": [
    {
     "data": {
      "text/plain": [
       "Counter({'SuicideWatch': 12609, 'depression': 24683})"
      ]
     },
     "execution_count": 5,
     "metadata": {},
     "output_type": "execute_result"
    }
   ],
   "source": [
    "#matches are non-word chracters and digits to be replaced with spaces.\n",
    "RE_PREPROCESS = r'\\W+|\\d+'  \n",
    "#get rid of punctuation and make everything lowercase\n",
    "processed_corpus = np.array( [ re.sub(RE_PREPROCESS, ' ', comment).lower() for comment in corpus] )\n",
    "Counter(subreddit_id)"
   ]
  },
  {
   "cell_type": "markdown",
   "metadata": {},
   "source": [
    "# Supervised Learning: Identify the Subreddit Section\n",
    "\n",
    "In this section we are going to train a classifier to properly tag the original subreddit the comment appeared. First we split our data into a testing and training set using the first 80% of the data as the training set and the remaining 20% as the testing set. "
   ]
  },
  {
   "cell_type": "code",
   "execution_count": 6,
   "metadata": {
    "collapsed": false
   },
   "outputs": [
    {
     "name": "stdout",
     "output_type": "stream",
     "text": [
      "Training Labels Counter({'depression': 19382, 'SuicideWatch': 10451})\n",
      "Testing Labels Counter({'depression': 5301, 'SuicideWatch': 2158})\n"
     ]
    }
   ],
   "source": [
    "#split the data into training and testing sets. \n",
    "#refactor this in the test train-split\n",
    "train_set_size = int(0.8*len(subreddit_id))\n",
    "train_idx = np.arange(0,train_set_size)\n",
    "test_idx = np.arange(train_set_size, len(subreddit_id))\n",
    "\n",
    "train_subreddit_id = subreddit_id[train_idx]\n",
    "train_corpus = processed_corpus[train_idx]\n",
    "\n",
    "test_subreddit_id = subreddit_id[test_idx]\n",
    "test_corpus = processed_corpus[test_idx]\n",
    "\n",
    "print('Training Labels', Counter(subreddit_id[train_idx]))\n",
    "print('Testing Labels', Counter((subreddit_id[test_idx])))"
   ]
  },
  {
   "cell_type": "markdown",
   "metadata": {},
   "source": [
    "# Tokenize and stem to create features\n",
    "\n",
    "Now that we have the data and we have done a bit of preprocessing. We want to create features. Now we create a vectorizer object that finds the frequency of words in each of the documents while weighing the importance of each word. For example, the words *the* or *for* may appear often in a document but may have very little semantic value. Conversely a document may have specialized, obscure words that do not occur anywhere in else in the corpus. These cases are managed by setting a threshold for the Min and Max Document Frequeny(DF).  "
   ]
  },
  {
   "cell_type": "code",
   "execution_count": 7,
   "metadata": {
    "collapsed": false
   },
   "outputs": [],
   "source": [
    "#parameters for vectorizer \n",
    "ANALYZER = \"word\" #unit of features are single words rather then phrases of words \n",
    "STRIP_ACCENTS = 'unicode'\n",
    "TOKENIZER = None\n",
    "NGRAM_RANGE = (0,2) #Range for pharases of words\n",
    "MIN_DF = 0.01 # Exclude words that have a frequency less than the threshold\n",
    "MAX_DF = 0.8  # Exclude words that have a frequency greater then the threshold \n",
    "\n",
    "vectorizer = CountVectorizer(analyzer=ANALYZER,\n",
    "                            tokenizer=None, # alternatively tokenize_and_stem but it will be slower \n",
    "                            ngram_range=NGRAM_RANGE,\n",
    "                            stop_words = stopwords.words('english'),\n",
    "                            strip_accents=STRIP_ACCENTS,\n",
    "                            min_df = MIN_DF,\n",
    "                            max_df = MAX_DF)"
   ]
  },
  {
   "cell_type": "markdown",
   "metadata": {},
   "source": [
    "TFIDF (Term Frequency Inverse Document Frequency) transforms a count matrix--what we created above--into a TFIDF represenation. This is done by reweigthing words that occur throughout the entire corpus to a lower weight due to empirically being found to be less informative. \n"
   ]
  },
  {
   "cell_type": "code",
   "execution_count": 8,
   "metadata": {
    "collapsed": false
   },
   "outputs": [],
   "source": [
    "NORM = None #turn on normalization flag\n",
    "SMOOTH_IDF = True #prvents division by zero errors\n",
    "SUBLINEAR_IDF = True #replace TF with 1 + log(TF)\n",
    "USE_IDF = True #flag to control whether to use TFIDF\n",
    "\n",
    "transformer = TfidfTransformer(norm = NORM,smooth_idf = SMOOTH_IDF,sublinear_tf = True)"
   ]
  },
  {
   "cell_type": "code",
   "execution_count": 9,
   "metadata": {
    "collapsed": false
   },
   "outputs": [
    {
     "name": "stdout",
     "output_type": "stream",
     "text": [
      "Time Elapsed: 7.74s\n"
     ]
    }
   ],
   "source": [
    "#get the bag-of-words from the vectorizer and\n",
    "#then use TFIDF to limit the tokens found throughout the text \n",
    "start_time = time.time()\n",
    "train_bag_of_words = vectorizer.fit_transform( train_corpus ) #using all the data on for generating features!! Bad!\n",
    "test_bag_of_words = vectorizer.transform( test_corpus )\n",
    "if USE_IDF:\n",
    "    train_tfidf = transformer.fit_transform(train_bag_of_words)\n",
    "    test_tfidf = transformer.transform(test_bag_of_words)\n",
    "features = vectorizer.get_feature_names()\n",
    "print('Time Elapsed: {0:.2f}s'.format(\n",
    "        time.time()-start_time))"
   ]
  },
  {
   "cell_type": "code",
   "execution_count": 11,
   "metadata": {
    "collapsed": false
   },
   "outputs": [],
   "source": [
    "#relabel our labels as a 0 or 1\n",
    "le = preprocessing.LabelEncoder() \n",
    "le.fit(subreddit_id)\n",
    "subreddit_id_binary = le.transform(subreddit_id)"
   ]
  },
  {
   "cell_type": "code",
   "execution_count": 12,
   "metadata": {
    "collapsed": false
   },
   "outputs": [],
   "source": [
    "#make clear what are the features and what are the labels \n",
    "clf = LogisticRegression(penalty='l1')\n",
    "mdl = clf.fit(train_tfidf, \n",
    "              subreddit_id_binary[train_idx])\n",
    "y_score = mdl.predict_proba( test_tfidf )"
   ]
  },
  {
   "cell_type": "markdown",
   "metadata": {},
   "source": [
    "## Evalution of the Supervised Model\n",
    "\n",
    "To evalute how are classifer had done we find the AUC (Area Under Curve) of a ROC Curve and plot a precision recall curve. "
   ]
  },
  {
   "cell_type": "code",
   "execution_count": 13,
   "metadata": {
    "collapsed": false
   },
   "outputs": [
    {
     "name": "stdout",
     "output_type": "stream",
     "text": [
      "0.65\n"
     ]
    }
   ],
   "source": [
    "auc = roc_auc_score( subreddit_id_binary[test_idx], y_score[:,1])\n",
    "print(\"{0:.2f}\".format(auc))"
   ]
  },
  {
   "cell_type": "code",
   "execution_count": 14,
   "metadata": {
    "collapsed": false
   },
   "outputs": [
    {
     "data": {
      "text/plain": [
       "<matplotlib.figure.Figure at 0x7f2c7a425550>"
      ]
     },
     "metadata": {},
     "output_type": "display_data"
    },
    {
     "data": {
      "image/png": "[encoded data removed]",
      "text/plain": [
       "<matplotlib.figure.Figure at 0x7f2c7a421b70>"
      ]
     },
     "metadata": {},
     "output_type": "display_data"
    }
   ],
   "source": [
    " plot_precision_recall_n(subreddit_id_binary[test_idx], y_score[:,1], 'LR')"
   ]
  },
  {
   "cell_type": "markdown",
   "metadata": {
    "collapsed": true
   },
   "source": [
    "## Feature Importances \n",
    "\n",
    "Find the five words that are most predictive of each subreddit "
   ]
  },
  {
   "cell_type": "code",
   "execution_count": 15,
   "metadata": {
    "collapsed": false
   },
   "outputs": [
    {
     "name": "stdout",
     "output_type": "stream",
     "text": [
      "SuicideWatch:  ['suicide', 'please', 'talked', 'suicidal', 'hospital']\n",
      "depression:  ['helps', 'psychiatrist', 'depressed', 'effects', 'depression']\n"
     ]
    }
   ],
   "source": [
    "coef = mdl.coef_.ravel()\n",
    "\n",
    "dict_feature_importances = dict( zip(features, coef) )\n",
    "orddict_feature_importances = OrderedDict( \n",
    "                                sorted(dict_feature_importances.items(), key=lambda x: x[1]) )\n",
    "\n",
    "ls_sorted_features  = list(orddict_feature_importances.keys())\n",
    "\n",
    "num_features = 5\n",
    "subreddit0_features = ls_sorted_features[:5] #SuicideWatch\n",
    "subreddit1_features = ls_sorted_features[-5:] #depression\n",
    "print('SuicideWatch: ',subreddit0_features)\n",
    "print('depression: ', subreddit1_features)"
   ]
  },
  {
   "cell_type": "markdown",
   "metadata": {},
   "source": [
    "## See the predictions and how well they match up"
   ]
  },
  {
   "cell_type": "code",
   "execution_count": 16,
   "metadata": {
    "collapsed": false
   },
   "outputs": [],
   "source": [
    "#maybe do something with this crazy indexing: this is python not C!\n",
    "num_comments = 5\n",
    "subreddit0_comment_idx = y_score[:,1].argsort()[:num_comments] #SuicideWatch\n",
    "subreddit1_comment_idx = y_score[:,1].argsort()[-num_comments:] #depression\n",
    "\n",
    "#convert back to the indices of the original dataset\n",
    "top_comments_testing_set_idx = np.concatenate([subreddit0_comment_idx, \n",
    "                                               subreddit1_comment_idx])\n"
   ]
  },
  {
   "cell_type": "code",
   "execution_count": 17,
   "metadata": {
    "collapsed": false
   },
   "outputs": [
    {
     "name": "stdout",
     "output_type": "stream",
     "text": [
      "SuicideWatch:0.009960331135796377\n",
      "---\n",
      "it sounds like you re exhausted on many levels and are losing hope or have lost hope i m so sorry for what it s worth it s striking that you give equal weight in your post to your personal struggles and your existential despair at the state of the world that s pretty remarkable it speaks to your empathy you are not worthless i think that you want to help people you say that you don t even know why you try but it sounds like you do know you care about the world so much that it hurts helping people gives life meaning right and sometimes jerks may deny that or try to take that from you but we all have to fight them i know that i can t imagine the added pain of being trans in a hostile world though some of this i get i m queer too and not in a good situation right now and it sounds like you ve got something eating disordered type stuff going on that certainly makes the world a harder place to live in there is help out there though personally i found support groups where people help me and i help them and they make my life not just survivable but meaningful those may not be for everyone but please don t stop believing that you deserve help you are worth it and i ll be thinking about you \n",
      "===\n",
      "SuicideWatch:0.023653230847699283\n",
      "---\n",
      "if life were just heartbreak would kill you on the spot it hurts so bad and so deep in places only that person could touch and when the hurt is gone there is a big hole for a long time that can get filled up any number of ways some people fill it with anger anger about a lot of things their life their ex themselves but anger only makes the hole bigger and deeper some people fill it with other things sometimes good family friends new relationships sometimes not so good one night stands drugs alcohol but what really goes in that hole is you you have to patch yourself back up with bits and pieces you find of yourself through some uncomfortable self discovery it takes a long time and it hurts but one day without even realizing it s working you ll look around and think i feel whole again and then your heart won t be broken and you ll have room inside for someone else someone who won t burn holes into your heart but fill it up to the brim with strong confident love i had my heart broken so badly i wanted to die a little over a year ago i said fuck it to the life i thought i was going to lead but couldn t because of the break up and did something absolutely crazy i sailed across the indian ocean trust me nothing makes you dig deeper down into yourself and confront uncomfortable and varying truths like pitting yourself against a fierce ocean now obviously not everyone can do what i did but i encourage you to take this time to dig deep into yourself and do something crazy that you never thought you could do travel even if it s just outside your city learn about yourself push your body your mind your soul hard you ll find someone amazing worth loving inside i hope this didn t seem trite i really empathize with your pain please let me know if you need someone to talk to you can do anything in the world when you have nothing to lose \n",
      "===\n",
      "SuicideWatch:0.02862395082986863\n",
      "---\n",
      "hey op just letting you know i m here so i ll just carry over what you posted in your last post over here i ll respond to that a little later please give me a little moment gt original post this is my little way of venting and hopefully making myself feel better sort of my way of telling the whole world how i feel but not necessarily anyone will read it if that makes sense well it does to me the best way to describe it is that i prefer to have it here on reddit with the possibility of someone reading it than on microsoft word where i know no one will read it i m also typing what i feel none of this is planned so if it seems all over the place this is why like i said i just wrote this in attempt to make myself feel better i m tired and it s     am as im writing this so that explains any grammatical errors feel free to leave responses i don t care if i m breaking any rules i d greatly appreciate a pm mods so i can edit it or if i have to copy it so i can post it somewhere else anyway gt in short i want to die that s it really i just want to stop living not because i m depressed from sadness but because i m tired i m only   years old and i feel like i m   in high school teachers counselors etc always use to ask my peers and i where we saw ourselves in ten years i never knew the answer i still don t i can t picture my life in   years or   years or even next year i hope i m dead earlier i said i m not depressed that s not entirely true let me explain i don t want to do anything with my life the thought of going to college and having a career saddens me even the thought of having a simple job saddens me the thought of interacting with strangers frightens me the thought of living saddens me i m scum i have the possibility to do anything with my life and i don t have a hard life my parent s didn t hit me they didn t divorce i have wonderful brothers and sisters and yet i still feel this way if i had the opportunity to not exist and somehow give my position to somebody who has had a hard life and suffered to them i would because at least they d do something with it i d do it in a heartbeat this is what depresses me i am the definition of scum i shouldn t be depressed but i am i don t feel like i deserve to be depressed but i am and i hate myself even more because i am i hold a small grudge towards my parents for bringing me into this world i often find myself at night wishing they never met wishing i was never born the thought of me not existing brings me such joy but sadly i exist so the next best thing is death and i would of killed myself by now but the thought of pain stops me i m too scared death is the only thing i want in life and once again the only person stopping me is me i m my own worst enemy sometimes i wonder if that s why i wanna kill myself if somehow by committing suicide i have killed the person who s made me feel the way i feel i haven t told anyone the way i feel no friends or family i often joke to my friends about suicide but i m positive they think i m joking and have no idea how badly i want to die this one time my friend casually told me at a party that he was kind of depressed and he was describing exactly how i felt and what did i do i basically told him to shut up because no one wanted to hear that i don t know why i told him that i wonder if it was because he described my feelings and i felt like i couldn t accept it at the time i regret it everyday of my life it s another reason why i hate myself my friend didn t commit suicide and we ve hung out since then but he s never talked about it again and i haven t asked him i m not even good enough to be his friend i ve never felt connected to my family at least not enough to ever tell them my feelings i feel like my brothers and sisters were made for each other if that makes sense like when you learn that they re related you think yeah that makes sense but me not so much i m nothing like them we don t like the same things and our personalities are so different that when we get together like at a family gathering i find that i don t talk to them much and when we do they generally ask how s it going and i just say fine i ve felt so lonely my entire life ever since i was a child i ve never had a girlfriend and at this point i don t even want one because i m worried if i start dating someone and i tell her how i feel that she ll feel like she now has to stay in the relationship so i don t commit suicide i often day dream of hanging out with this chick i had a crush on in one of my high school classes we both love reggae music and we d listen to it in class every now and then i kind of gave signals that i was interested but she never did anything when i was attending community college she had the professor i had before me and we d talk for a few minutes the first couple times was just catching up cause we didn t see each other for a while and after that it was just me asking what we did in class now that i ve dropped out of college i still think about her i ve even had dreams about her where we were just hanging out i don t think that s healthy i think i love her but at the same time i just think i feel this way because i feel shitty but when i dream of her i don t hurt so bad but i m just her friend and i think i m ok with that but it still hurts because she ll never know how i feel but at the same time i know she doesn t feel the same at this point i feel like i m carrying a heavy weight and it just gets heavier and heavier but i keep carrying it and i want to drop it but somehow i put a smile on my face not because i m happy but because the thought of losing this weight makes me laugh and the thought of me killing myself makes me laugh because i know i ll carry it forever and i know i won t ever have the balls to kill myself so i feel i ll always feel this way but who knows to me death sounds good all the time so maybe when i m at my breaking point i ll do it i have a lot more to say but at this point i can t really think of a reason to keep going \n",
      "===\n",
      "SuicideWatch:0.029310473134703696\n",
      "---\n",
      "the reason why hotlines are the norm is that a lot of friends and family even if they have all the love in the world just aren t emotionally equipped to deal with our thoughts of suicide so i think you re being wise and realistic to put some thought into how you present this to your family i also answer a hotline irl and one of the things we end up doing quite often is helping people figure out how to break things to their families we also always help people work out a plan b for what to do if telling the family doesn t go well so talking to your local or national hotline first might be an option for you if you feel comfortable with that either way i think we might be able to help you more here in framing the conversation if you could tell us a bit more about yourself and your family how long you ve been feeling this way and what your relationship s been like up to this point it s never an easy conversation to have no matter how well prepared we are but it sounds like you need to have it soon you said that you ve been really struggling with thoughts of suicide for a couple of weeks were there any changes in your life or events that precipitated this hugs \n",
      "===\n",
      "SuicideWatch:0.03032491639912911\n",
      "---\n",
      "i am sorry that you want to kill yourself this is not a place to ask for methods but let me tell you one thing there is no fail safe method to kill yourself anything you would do there s no guarantee that you wouldn t end up in some really fucked up state trust me i researched it a lot in my life can you please tell us what s going on in your life that you consider suicide did something happened lately or are you in permanent pain from something \n",
      "===\n",
      "depression:0.9987548693735633\n",
      "---\n",
      "some antidepressants do have that side effect because what you have to realize is the way they work is they balance out and change the levels of hormones and neurochemicals in our bodies citalopram specifically increases serotonin which surprisingly enough is a neurotransmitter inhibitor that calms and relaxes the brain which is possibly one of the reasons my best suggestion for you is to speak with you psychiatrist or whoever is prescribing you the medications and bring it up there s a possibility if the citalopram is working and it keep your depression in check your psychiatrist might be able to prescribe you a secondary med for days when you expect to have some form of romantic or intimate contact with you and your significant other this is what folks with ed do with viagra they only take it when they need it now i m not saying go get viagra but there are other drugs specifically ndris where instead of changing serotonin levels they increase dopamine and norepinephrine which for some people show very little side effects in terms of sexual drive i m not a psychiatrist or a pharmacist but definitely discuss it with whoever is prescribing your medications \n",
      "===\n",
      "depression:0.9990227161270593\n",
      "---\n",
      " gt edit also if there is one thing i ve learned in life it s no matter how much you ask or scream for help nobody is going to come you re always going to be on your own you posted on this subreddit for a reason and from one depressed to another i want you to know this post can help you see that you truly aren t alone job and money is tricky our culture has esteemed the kind of job we have and the amount of money in our accounts to be the measures of success and this puts a ton of pressure to adhere to that standard to find self worth in this cruel life where not everyone starts on the same level it s scary because i don t have everything figured out still trying to search for my career and i have just enough to meek out a living with just enough to save and spend a little to have some fun and guess what i m   i have a bachelor s which amounted to no career and i m trying to get back into school for a different bachelor s with a much better job pool you re   and not to come off patronizing but there is plenty of time for you to keep searching and find your calling if money is an issue regarding school there is fafsa you can apply for assuming you re in the u s you can start building a solid credit score if you haven t already by opening a credit line and treating it as you would a debit card to spend what you can afford while paying off the debt in full you can work on getting certified or start community college to knock out general ed for much cheaper than you would at a uni if you haven t started school yet you can bite the bullet and work part time somewhere to start your collection of job experience or even consult a temp agency to get your foot in somewhere there are options and as i often say to others on this subreddit it all begins with small manageable steps parties are overrated especially if it s the kind of parties you think should be expected of from shows and movies and shit parties in general however can be pretty fun if you allow yourself to enjoy them you don t always need blowout parties and if getting access to them is the issue again start small try meetup com you can search based on your interests and hobbies and if you don t have much hobbies to speak of try picking up something simple and small it s daunting to meet new people believe me i know it took me years to develop extroverted habits and even then i m still an introvert at heart and need to recluse from social things to recharge my batteries it s disheartening to put yourself out there and deal with rejection but when it comes to social aspects in life it s what it takes and the more you expose yourself to it the less daunting it will seem because you give yourself the opportunities to learn from what did and didn t work and this most definitely applies to the dating world which leads to your health shape whatever label that goes on it check out r fitness get situated with the faqs and ask away if you have questions it s a very helpful subreddit and i refined my workout routines as a result of consulting there often the thing with fitness is it s difficult it s really tough to get started and it s a whole new battle to maintain it however once you start it only gets better from there it s so easy to sit down and look back to think if i only started __ years ago i d be so much more fit now but with fitness your best time to start is now it doesn t even have to start at the gym if money is an issue because weight loss comes from the kitchen if you re drinking   cans of soda a week cut it down to   a week then   then   then   then ween yourself from it and replace it with the occasional   juice if you re eating fast food   meals a day cut it down to   then   all the while making a trip or two to the market and avoid the aisles slowly replace a meal or snack with something you can simply whip up in the kitchen even just grilling chicken and stir frying your veggies is a big step up from ordering your usual from the take out joint gym wise i recommend planet fitness it s   a month to attend the gym you sign up at or   mo to gain access to any pf in the country there s a lot of circlejerk hatred for pf especially in r fitness because of the general lack of access to squat racks or deadlift stations and weights that cap out at like     pounds but if you re just starting out you don t need all that super heavy equipment and most of the people crying about pf aren t olympic lifters either so they re just joining in on the hate should you start going to the gym don t make the wild expectation that you re going to go every day every morning if it s not your routine yet start small try every two days every other day and once you get the hang of it you should add more gym days i m currently  lbs at     maybe at about     body fat not bad but considering i used to be   lbs and struggled with eating right and maintaining good exercising and eating habits over the past   years until now it s a milestone for me it doesn t have to take as long for you to get where you want to be but it all starts with you a healthy body image is important to building your confidence in many aspects but figuring out who you are and allowing yourself to embrace all that is actually good no matter how small is where it should begin you can look like adonis himself and still have poor self image so know that looks aren t as important as you being confident with who you are even with faults when you find the things you know you can work on whether it s eating habits or even something more abstract like having a hard time engaging people in conversation it s a lot easier to break down the issues into smaller realistic quest lines to complete before you know it you ll have completed a full arc for you to gain xp on the next one notice the trend here it s all about small steps my biggest tip to you is to work on yourself with manageable goals and give yourself time to let it all manifest into something greater than what you originally started with you working on yourself will steadily give you the confidence and capacity to love yourself more and until you love yourself you won t get yourself into a fulfilling position of someone else loving you back you can do this \n",
      "===\n",
      "depression:0.9992444558447663\n",
      "---\n",
      "as the other commenter said it works differently for everyone that being said it is a perfectly good med afaik research hasn t shown it to be any better or any worse than other antidepressants i own quite a few psychopharmacology books and one of them says that virtually all antidepressants have a   response rate in other words   out of   people who take it will respond in some way i also recall reading about something called the rule of thirds this refers to how in clinical studies for a particular antidepressant the pattern tends to be that     of patients will go into partial remission i e they are almost completely better but have residual symptoms     will go into full remission and     will not show any response celexa citalopram is a very commonly used antidepressant it s an ssri selective serotonin reuptake inhibitor which is a safe and pretty effective class of meds ssris are commonly used because they don t cause side effects as much or as severely as other types of antidepressants like tricyclics tcas or monoamine oxidase inhibitors maois if you d like to read more about celexa i would recommend looking at this site http cdn neiglobal com content pg live citalopram pdf that site has the same info that is in the book my doctor uses for prescribing info it s called stahl s essential psychopharmacology the prescriber s guide it explains what it s used for how it works notable side effects how it causes side effects what to do about side effects best augmenting agents dosing best worse candidates for taking this med etc good luck \n",
      "===\n",
      "depression:0.999355720279711\n",
      "---\n",
      "this has not been said here and i feel like it really needs to be most anti depressants will not make you less depressed period finding one that works is difficult some of the positive effects can be placebo or just your life circumstances changing they take     weeks to work with each medication it is normal to go through   or   before finding one that works for you and doesn t have nasty side effects from the first appointment until you find something you like might be     months i feel like you have this idea in your head that by getting anti depressants your depression will go away but that s not really how it works at all that being said find a decent therapist or psychiatrist sadly in my experience good ones are expensive finally your parents sound like they have no idea how anti depressants actually work or what they do do some of your own research the things that make you feel nothing are maybe anti psychotics or like xanax i don t actually know as much about those drug categories and they are different from an anti depressant \n",
      "===\n",
      "SuicideWatch:0.9997039299973253\n",
      "---\n",
      " looking for help mid twenties paedophile here there are ethical options therapy amp social support various therapies http en wikipedia org wiki sex_offender therapies have been shown to reduce often drastically the instance of re offense for sex offenders and in my opinion there is no reason or evidence to suggest it would be any different for those with difficult perilous attractions paedophilic or otherwise who haven t committed a crime there are support groups for innocent paedophiles seeking to avoid dangerous or criminal behaviour some being run by other self titled virtuous pedophiles http en wikipedia org wiki virtuous_pedophiles and others by community outreach type groups like circles of support and accountability http en wikipedia org wiki circles_of_support_and_accountability and b u act http www b u act org stop it now http www stopitnow org is a good resource for survivors and reporting crimes in a general sense but also has a page http www stopitnow org treatment resources adults risk abuse and who have abused   dedicated specifically to helping us find help on reddit there s r pedtalk r pedohelp r pedophilia and the generic abuse prevention sub r abuseinterrupted that i ve found or been referred to so far in addition to such support actual psychological treatment in the form of behaviour modification https en wikipedia org wiki behavior_modification whether through operant conditioning http en wikipedia org wiki operant_conditioning or respondent conditioning http en wikipedia org wiki respondent_conditioning including the ethically controversial aversion therapy http en wikipedia org wiki aversion_therapy has some substantial positive effect pharmaceutical aid there is also chemical castration http en wikipedia org wiki chemical_castration which attempts to reduce risk by lessening or eliminating sex drive entirely with varied though often positive results additionally several other prescription medications such as anti depressants for example list reduced or eliminated libido as a side effect some without the more distressing side effects of standard chemical castration drugs the use of which could allow someone to seek medication without outing themselves under the guise of someone suffering from something like depression which is so common as to draw little or no attention and has the side benefit of reducing the depression that often accompanies low libido and the social isolation associated with having a sexual identity that is incompatible with ethical sexual expression i m not certain which work on women but men at least should very cautiously research antacids famotidine ranitidine can cause erectile dysfunction anti anxiety drugs alprazolam clonazepam lorazepam diazepam may result in lower libido delayed ejaculation and erectile dysfunction antidepressants selective serotonin reuptake inhibitors ssris serotonin norepinephrine reuptake inhibitor snris monoamine oxidase inhibitors maois tricyclic antidepressants tcas can lower libido and cause erectile dysfunction delayed ejaculation and sometimes painful ejaculation antifungal drugs ketoconazole can lower libido and cause erectile dysfunction antipsychotics haloperidol risperidone fluphenazine quetiapine olanzapine ziprasidone clozapine can result in lower libido erectile dysfunction and difficulty ejaculating blood pressure medication beta blockers antiarrhythmic drugs diuretics can cause low libido erectile dysfunction and delayed ejaculation cholesterol lowering drugs statins fibrates can cause sexual side effects like low libido and erectile dysfunction since cholesterol is needed to produce testosterone chemotherapy drugs can cause low libido and ejaculatory problems prostate drugs finasteride prazosin tamsulosin can cause erectile dysfunction terazosin may result in priapism anti androgen drugs used to treat prostate cancer can also cause side effects because they are made to lower testosterone other info additional sources i m a paedophile over ten years since my release without hurting anyone http www reddit com r iama comments  kpw g iama_paedophile_who_has_been_inactive_since_my other things i ve found personally helpful in understanding and regulating my own behaviour in no particular order cognitive biases https en wikipedia org wiki list_of_cognitive_biases are what our minds do to protect our opinions from being challenged logical fallacies https en wikipedia org wiki list_of_logical_fallacies are the failures of reasoning that we use intentionally or accidentally to prop up ill thought out positions youarenotsosmart http youarenotsosmart com is a site that has articles on some of each group above mental disorder https en wikipedia org wiki mental_illness focus less on these as directly indicative of a mental disorder and more on the potential for someone s brain mind to just fail to function in some fashion understanding this can give you the will to recognize when yours might do the same even if you don t have some specific illness maslow s hierarchy of needs https en wikipedia org wiki maslows_hierarchy_of_needs is a good framework from which to build understanding of your own needs and to strive for their responsible fulfillment and to help others do the same for themselves mindfulness meditation http marc ucla edu is a particular type of meditation that eschews the metaphysical bullshit in favor of common secular practices and scientifically studied and evidenced medical and psychological benefits here http marc ucla edu body cfm id   are some links to guided mindfulness meditation sessions from the study of it at ucla theramintrees https www youtube com user theramintrees is a youtube channel that makes some pretty interesting videos about thought faith ethics and such i should warn you it is from a quite secular viewpoint which may be unsettling to you if you are religious qualiasoup https www youtube com user qualiasoup is quite similar and works frequently with theramintrees qualiasoup s video on a logical basis for morality https www youtube com watch v t xt ltgsxq amp list sp efcb dfcd f e  is quite helpful in divorcing the notion of morality from your own personal feelings as is sam harris ted talk on the subject https www youtube com watch v hj ob zphww i d also recommend sam s video on free will https www youtube com watch v pcofmzlc g as it outlines some pretty interesting points phil hellenes https www youtube com user philhellenes has some food for thought secular inspirational videos and is well worth checking out this http youtu be  qdthdlok  is a poem titled shake the dust written and performed by anis mojgani at the   heavy and light concert poetry slam hosted by the suicide self harm prevention advocacy group to write love on her arms that i ve found particularly empowering when i m struggling once again i derive a lot of my positions from very secular sources because they re equally available to anyone regardless of belief system so if you re religious they might put you off a bit just remember you re not alone you re not evil and you re not doomed we re all here for you so talk to us \n",
      "===\n"
     ]
    }
   ],
   "source": [
    "#these are the 5 comments the model is most sure of \n",
    "for i in top_comments_testing_set_idx:\n",
    "    print(\n",
    "        u\"\"\"{}:{}\\n---\\n{}\\n===\"\"\".format(test_subreddit_id[i],\n",
    "                                          y_score[i,1],\n",
    "                                          test_corpus[i]))"
   ]
  },
  {
   "cell_type": "markdown",
   "metadata": {},
   "source": [
    " The predict probability refer to the probablity of a comment belonging to the depression subreddit. Therefore, comments belonging to the SucideWatch subreddit will have a low probablity. As can be seen from the comments for the three highest probablities for SucideWatch and depression, the classifier does a good job. Note the last entry in the depression comment is miscategorized. This is most likely due to the comment referring to depression and treatment. "
   ]
  },
  {
   "cell_type": "markdown",
   "metadata": {},
   "source": [
    "# Topic Modeling: Unsupervised Learning\n",
    "\n",
    "In this portion of the tutorial we will be extracting topics in the form of commonly co-occuring words from the corpus of data. "
   ]
  },
  {
   "cell_type": "code",
   "execution_count": 18,
   "metadata": {
    "collapsed": true
   },
   "outputs": [],
   "source": [
    "N_TOPICS = 50\n",
    "N_TOP_WORDS = 10"
   ]
  },
  {
   "cell_type": "markdown",
   "metadata": {},
   "source": [
    "## Load All the reddit Data"
   ]
  },
  {
   "cell_type": "code",
   "execution_count": 19,
   "metadata": {
    "collapsed": false
   },
   "outputs": [
    {
     "name": "stdout",
     "output_type": "stream",
     "text": [
      "Loading takes 4.794395s\n"
     ]
    }
   ],
   "source": [
    "start = time.time()\n",
    "corpus_all, subreddit_id_all = load_reddit('./data/RC_2015-05.json',MIN_CHAR=250)\n",
    "end = time.time()\n",
    "print('Loading takes {0:2f}s'.format(end-start))"
   ]
  },
  {
   "cell_type": "markdown",
   "metadata": {},
   "source": [
    "## Preprocess the data"
   ]
  },
  {
   "cell_type": "code",
   "execution_count": 20,
   "metadata": {
    "collapsed": false
   },
   "outputs": [
    {
     "name": "stdout",
     "output_type": "stream",
     "text": [
      "Processing took 29.07464623451233s\n"
     ]
    }
   ],
   "source": [
    "# Get rid of punctuation and set to lowercase  \n",
    "start = time.time()\n",
    "processed_corpus_all = [ re.sub( RE_PREPROCESS, ' ', comment).lower() for comment in corpus_all]\n",
    "\n",
    "#tokenzie the words\n",
    "bag_of_words_all = vectorizer.fit_transform( processed_corpus_all ) \n",
    "end = time.time() \n",
    "#grab the features/vocabulary\n",
    "features_all = vectorizer.get_feature_names()\n",
    "print(\"Processing took {}s\".format(end - start))"
   ]
  },
  {
   "cell_type": "code",
   "execution_count": 21,
   "metadata": {
    "collapsed": false
   },
   "outputs": [
    {
     "name": "stdout",
     "output_type": "stream",
     "text": [
      "Counter({'depression': 12079, 'offmychest': 10661, 'stopdrinking': 6958, 'SuicideWatch': 6098, 'ADHD': 5674, 'GetMotivated': 4799, 'Anxiety': 4466, 'Meditation': 3608, 'stopsmoking': 1867, 'leaves': 1629, 'BPD': 1618, 'BipolarReddit': 1515, 'OpiatesRecovery': 1391, 'socialanxiety': 1221, 'StopGaming': 946, 'schizophrenia': 898, 'mentalhealth': 572, 'ptsd': 566, 'MMFB': 483, 'alcoholism': 378, 'rapecounseling': 283, 'BipolarSOs': 272, 'AlAnon': 267, 'ZenHabits': 237, 'alcoholicsanonymous': 219, 'getting_over_it': 208, 'EatingDisorders': 203, 'Anger': 165, 'selfhelp': 150, 'StopSelfHarm': 136, 'dpdr': 105, 'survivorsofabuse': 96, 'helpmecope': 45, 'AtheistTwelveSteppers': 29, 'problemgambling': 17, 'buddhistrecovery': 12, 'MaladaptiveDreaming': 9, 'psychoticreddit': 8, 'PanicAttack': 8, 'secularsobriety': 6, 'SMARTRecovery': 5, 'secondary_survivors': 5, 'hardshipmates': 4, 'PanicParty': 4, 'afterthesilence': 3, 'feelgood': 2, 'jessiesparents': 1, 'Existential_crisis': 1}) 69927\n"
     ]
    }
   ],
   "source": [
    "print(Counter(subreddit_id_all), len(subreddit_id_all))"
   ]
  },
  {
   "cell_type": "markdown",
   "metadata": {},
   "source": [
    "## Create topics\n",
    "\n",
    "To create our topics we will use the LatentDirichletAllocation algorithm "
   ]
  },
  {
   "cell_type": "code",
   "execution_count": 22,
   "metadata": {
    "collapsed": false
   },
   "outputs": [
    {
     "name": "stderr",
     "output_type": "stream",
     "text": [
      "/home/akumar/py3venv/lib/python3.4/site-packages/sklearn/decomposition/online_lda.py:508: DeprecationWarning: The default value for 'learning_method' will be changed from 'online' to 'batch' in the release 0.20. This warning was introduced in 0.18.\n",
      "  DeprecationWarning)\n"
     ]
    },
    {
     "name": "stdout",
     "output_type": "stream",
     "text": [
      "Processing took 352.21460127830505s\n"
     ]
    }
   ],
   "source": [
    "start = time.time()\n",
    "lda = LatentDirichletAllocation( n_topics = N_TOPICS )\n",
    "doctopic = lda.fit_transform( bag_of_words_all )\n",
    "end = time.time() \n",
    "print(\"Processing took {}s\".format(end- start)) # takes ~72s for 1 file, ~445s for 5 files"
   ]
  },
  {
   "cell_type": "markdown",
   "metadata": {},
   "source": [
    "## Display the top ten words for each topics "
   ]
  },
  {
   "cell_type": "code",
   "execution_count": 36,
   "metadata": {
    "collapsed": false,
    "scrolled": true
   },
   "outputs": [
    {
     "name": "stdout",
     "output_type": "stream",
     "text": [
      "0 read, normal, dont, loved, scared, follow, books, skills, found, nearly\n",
      "1 brain, adhd, issues, use, attention, also, due, cause, part, several\n",
      "2 job, money, thinking, stop, hours, using, fix, spend, jobs, straight\n",
      "3 keep, body, mind, practice, simple, reasons, choose, going, helps, kept\n",
      "4 pretty, school, really, much, high, reading, get, think, lot, end\n",
      "5 family, us, book, bring, young, wait, interested, called, together, loss\n",
      "6 http, com, www, http www, reddit, message, reddit com, www reddit, comments, please\n",
      "7 good, luck, best, good luck, idea, great, recovery, addiction, another, choice\n",
      "8 less, living, stress, full, knowing, difference, horrible, gave, moved, order\n",
      "9 gt, amp, org, drugs, words, hang, wiki, research, history, amount\n",
      "10 else, alone, anyone, others, answer, perhaps, yet, question, something, big\n",
      "11 thanks, control, thank, told, feels, let, steps, appreciate, inside, feels like\n",
      "12 feel, better, little, make, left, today, right, lost, god, hope\n",
      "13 month, eat, take, exercise, food, healthy, mg, eating, asking, dose\n",
      "14 pain, call, life, would, fucking, real, hurt, issue, suicide, gone\n",
      "15 things, get, feel, thing, sometimes, feelings, bad, makes, think, one\n",
      "16 works, group, games, play, game, given, difficult, find, study, video\n",
      "17 anxiety, doctor, therapy, medication, help, therapist, depression, also, helped, treatment\n",
      "18 get, go, time, would, could, back, something, maybe, find, want\n",
      "19 years, meds, ago, months, everyone, different, literally, years ago, personally, done\n",
      "20 meditation, focus, simply, minutes, breath, state, mind, anxious, notice, fall\n",
      "21 im, non, child, level, early, comment, children, wants, respect, view\n",
      "22 automatically, please, tags, automatically please, subreddit, concerns, image, contact, action, article\n",
      "23 work, home, soon, working, house, wife, great, build, immediately, stuff\n",
      "24 want, talk, friend, really, girl, talking, know, telling, someone, meet\n",
      "25 self, honest, emotional, low, boyfriend, abuse, possibly, tool, however, required\n",
      "26 life, stay, live, happy, past, never, future, happiness, strong, decision\n",
      "27 day, days, every, time, quit, like, week, one, smoking, get\n",
      "28 thoughts, may, experience, change, mind, positive, think, thought, try, weight\n",
      "29 sleep, free, hate, pm, much, feel, goes, tired, suicidal, better\n",
      "30 though, even, night, fuck, even though, morning, hour, half, day, mood\n",
      "31 mental, health, disorder, physical, diagnosed, symptoms, mental health, illness, kid, must\n",
      "32 like, sounds, sounds like, yes, mother, needs, sorry, hear, father, fault\n",
      "33 depression, shit, helpful, kids, true, sub, motivation, related, age, posting\n",
      "34 long, often, worry, short, sex, term, may, look, rather, face\n",
      "35 understand, parents, feeling, depressed, exactly, feel, totally, worse, emotions, continue\n",
      "36 friends, new, advice, worked, give, close, writing, friend, based, best\n",
      "37 many, seems, side, effects, giving, experiences, many people, medical, side effects, people\n",
      "38 know, someone, tell, person, would, feel, want, say, way, relationship\n",
      "39 help, need, support, care, may, wanting, seek, talk, struggling, take care\n",
      "40 definitely, mom, stopped, enjoy, stupid, nice, process, reason, moment, girlfriend\n",
      "41 https, watch, learn, music, learning, com, interesting, youtube, www, https www\n",
      "42 people, like, think, things, know, one, person, something, lot, would\n",
      "43 love, man, never, worst, deserve, woman, men, ever, amazing, pass\n",
      "44 drinking, drink, sober, alcohol, aa, meeting, sobriety, meetings, clean, drunk\n",
      "45 sure, post, make, op, speak, make sure, clear, offer, please, miss\n",
      "46 world, believe, human, walk, system, power, brother, society, everyday, options\n",
      "47 step, college, time, next, one, first, write, small, common, pay\n",
      "48 like, time, got, never, felt, back, would, went, still, started\n",
      "49 year, old, anymore, heart, guess, break, hit, single, lack, years\n"
     ]
    }
   ],
   "source": [
    "\n",
    "ls_keywords = []\n",
    "for i,topic in enumerate(lda.components_):\n",
    "    word_idx = np.argsort(topic)[::-1][:N_TOP_WORDS]\n",
    "    keywords = ', '.join( features_all[i] for i in word_idx)\n",
    "    ls_keywords.append(keywords)\n",
    "    print(i, keywords)\n",
    "    "
   ]
  },
  {
   "cell_type": "markdown",
   "metadata": {
    "collapsed": false
   },
   "source": [
    "## first 25 comments with the majority topic"
   ]
  },
  {
   "cell_type": "code",
   "execution_count": 37,
   "metadata": {
    "collapsed": false
   },
   "outputs": [
    {
     "name": "stdout",
     "output_type": "stream",
     "text": [
      "comment_id: 0 offmychest topic_id: 14 keywords: pain, call, life, would, fucking, real, hurt, issue, suicide, gone\n",
      "---\n",
      "It's not your fault don't think that. Hey if this helps it does then if it doesn't well. At least I can talk about it.\n",
      "\n",
      "I shot my dog. I had him for 10 years. I can home from partying and it was New Years so I was going to shoot off my .40 so...\n",
      "\n",
      "Well I was loading it outside and I shot it off accidentally. Right into my dog. Me having about 5-7 tequila shots into me though if I go to sleep I would wake up and he would be okay. Well if I called a vet when I shot him I could have saved him. Or at least from his pain. So I woke up saw a dead dog in my yard… i cried for hours. That old dog still had a few good years in him. \n",
      "\n",
      "That was my fault and you sitting on a little tiny mouse is more understandable than a man discharging a firearm into a shitzu. Don't feel to bad. \n",
      "===\n",
      "comment_id: 1 offmychest topic_id: 4 keywords: pretty, school, really, much, high, reading, get, think, lot, end\n",
      "---\n",
      "You do have a valid point--I've always been a bit of a behind the scenes person. While I'm super bubbly and extraverted IRL, I'm not too big on bringing much attention to myself. I don't even have a Facebook because I just found it so weird over the years. \n",
      "\n",
      "Perhaps I kinda inadvertently set a standard without realizing it, and reading this made me reflect. I reached out to some people today after reading this last night and thinking things through. Some people are still jerks--but that's just who they are and I know to just stay away from them. Others did care. Again, my family and my boyfriend's (he's coming with) don't really, and that cuts real deep, but what are ya gonna do?\n",
      "\n",
      "I do agree with the other commenter though as well. I think it's one thing to suggest something, as in \"Hey maybe we should do this small thing Saturday for my birthday\", but in my experience, I've known way too many people who, when they suggest such things, are very over the top and it just always came to me as tacky, especially (to me) if they haven't really achieved anything.\n",
      "===\n",
      "comment_id: 2 depression topic_id: 15 keywords: things, get, feel, thing, sometimes, feelings, bad, makes, think, one\n",
      "---\n",
      "Hey, do you know what it is that makes you feel such hatred towards these things? Does the violence make your thoughts go in an unwanted direction? And when you say these things make them bad people, do you mean you think your friends are bad people for enjoying the shows/games, or that the people who make them are bad? It sounds like it could easily be a depression thing tbh.\n",
      "===\n",
      "comment_id: 3 depression topic_id: 16 keywords: works, group, games, play, game, given, difficult, find, study, video\n",
      "---\n",
      "Right there with you. National merit scholar now failing classes. Gpa from 3.7 to 2.5. Depression is a bitch. You just have to find what works for you study wise. For me, empty classrooms help. Space and isolation. You have to be strict about setting study days. It's incredibly difficult and I'm nowhere near succeeding, but it's given me some improvement.  Do it for yourself, not your family. \n",
      "===\n",
      "comment_id: 4 ADHD topic_id: 27 keywords: day, days, every, time, quit, like, week, one, smoking, get\n",
      "---\n",
      "I cannot put into words how much I love programming. So many avenues to go down, so many ways to innovate, and the very real possibility of changing the world just by doing it a lot. I work at a web development company and do independent game design in my off time, and rarely feel burnt out. If I could add an extra day to the week to program, I would do it twice.\n",
      "===\n",
      "comment_id: 5 offmychest topic_id: 18 keywords: get, go, time, would, could, back, something, maybe, find, want\n",
      "---\n",
      "You are being treated unfairly and manipulated.  You shouldn't be put in this situation.  Honestly, I would inform him any threats to his safety, no matter how they are conveyed, will be conveyed to the police for a welfare check.  \n",
      "Please find a friend or a counselor in which to confide.  \n",
      "===\n",
      "comment_id: 6 depression topic_id: 48 keywords: like, time, got, never, felt, back, would, went, still, started\n",
      "---\n",
      "I was a generally sad child. But I don't feel like my problems stemmed from that. Years ago I decided that I wanted to join the army. It sounded like a good idea. Wrong. I'm not sure what it was that first triggered my major depression episodes, but it happened. I started falling apart. I had a rough experience. The army shuns the weak, both mental and physical. I'm strong but was still developing mentally at 18, still learning the world and who I was. Uncontrollable actions, such as fits of depression and anger made my life hell. The others picked up on it. I felt like they would rather leave me behind then help my up. I was right. I have one very vivid memory that I remember every day. I was laying in my bed (separated from the other beds in the middle of the room), with my two \"guards\" standing watch. Yeah, I had to have at least two people within arms reach of me at all times, even while sleeping. It got that bad. One of them decided he didn't have time for this. All I did was look at him and sigh. He took my pillow from under my head and tried to suffocate me. And I just laid there. Not moving. I didn't care. It didn't last long as the other people in the room (47 people) stepped in. After the event the drill sergeant walked in, unaware of the events that had transpired moments before. He walked up to me as I was laying in bed again. He bent over me and asked my how I was. I said that I was fine and he left. It has taken me a very long time to understand how I felt about this. Turns out I was angry at myself for failing something that I set out to do. I felt like garbage for so long. It took me 5 years to admit to myself that my self directed anger and loathing ment nothing. The past is the past. There is nothing that can be done about it. But my future, my happiness needs not be influenced by past failures. I was angry at myself, and I finally learned why. And I finally forgave myself.\n",
      "===\n",
      "comment_id: 7 offmychest topic_id: 49 keywords: year, old, anymore, heart, guess, break, hit, single, lack, years\n",
      "---\n",
      "When I was an awkward 15 year old I invested way too much of myself into a \"relationship\" with a catfish. My stupid ass didn't want to believe my friends who recognized one of her pictures as a porn star, or look any further into why no two pictures looked the same...I was just so willing to believe I had landed some kind of jackpot beauty queen who was actually into me that I ignored all the red flags, then later learned that she was actually a girl, but just 11 years old when we started talking. That's right, I got catfished by a child.\n",
      "\n",
      "Oh the joys of growing up in the age of the internet.\n",
      "===\n",
      "comment_id: 8 offmychest topic_id: 4 keywords: pretty, school, really, much, high, reading, get, think, lot, end\n",
      "---\n",
      "This thought is the one thing that's keeping me going so thanks for the reminder. &lt;3 I've been so terribly nervous over the whole ordeal that I have to sit there and think \"You know, maybe I'm actually pretty likable and people care about me and I'm just my own worst enemy.\"\n",
      "===\n",
      "comment_id: 9 stopsmoking topic_id: 7 keywords: good, luck, best, good luck, idea, great, recovery, addiction, another, choice\n",
      "---\n",
      "There's gonna be a voice that says in you head, \"Nah...I'll just have one more.\" or \"It's ok to just have one.\". You gotta tell it \"yo voice, I don't need another one\". This voice is your addiction talking and once you tell it to fuck off. You'll be in good shape. All you have to do win the argument with that voice. It's really easy because it doesn't have any idea what logic is. It's just spouting some bullshit to try and get you to smoke again. I would say good luck, but if you can out argue that voice you'll be golden.\n",
      "===\n",
      "comment_id: 10 depression topic_id: 36 keywords: friends, new, advice, worked, give, close, writing, friend, based, best\n",
      "---\n",
      "Hello friend, I struggle with the hatred as well, it seems like second nature to just scream abuse at myself in my head. I don't know for sure how to stop it from happening but maybe making a point to yourself to notice whenever you feel yourself spiralling downward and see what sort of thing sets you off could be a start? Wishing you the best of lovely times.\n",
      "===\n",
      "comment_id: 11 ptsd topic_id: 24 keywords: want, talk, friend, really, girl, talking, know, telling, someone, meet\n",
      "---\n",
      "Gah, I'm such a baby. You list made me cry. I love dark chocolate and tea and mountains and singing (also badly) and flowers and kisses and wine and wind chimes and BBQ and hot showers and blue. Also the sounds of someone cooking on the grill. And when sunlight lights up the leaves, so their undersides are bright green. And my husband's laugh. Gah, I'm just so grateful. Life is rough, but it's also really great. Chocolate, man. Lol. *sigh* I could do this all day. \n",
      "===\n",
      "comment_id: 12 ADHD topic_id: 48 keywords: like, time, got, never, felt, back, would, went, still, started\n",
      "---\n",
      "Yea, I used to be at UCSD and they had free healthcare for students, but I didn't realize I had ADHD at the time.  I flunked out so any treatment they could have provided can no longer do me any good.  It's okay though, I'm working my way to transfer to another university.  \n",
      "\n",
      "When I first got kicked out I was bitter at UCSD, feeling like they could have been more understanding and all that, but I've since gotten over those feelings. I realize that as administrators they just thought that I wasn't taking school seriously; it's not like they were out to get me for no reason.  \n",
      "\n",
      "Plus, I think it doesn't matter what university or college a person attends as long as they make the most of their experience there.  Being a 4.0 student at a lesser known university is better than being a 2.0 student at UCSD or some other prestigious university like Harvard; at least in my opinion.  Others might disagree and think that only the name of the school matters. \n",
      "\n",
      " For my major especially I don't think it matters since I'm doing computer science, and it's one of those fields where if you can prove that you know what you're doing, employers will hire you.  It's more of a fair profession in that sense.\n",
      "===\n",
      "comment_id: 13 Anxiety topic_id: 47 keywords: step, college, time, next, one, first, write, small, common, pay\n",
      "---\n",
      "It's going to be okay. Right now, it feels like the world is collapsing for you but you can turn this around. You can get re-enrolled in your classes and try harder. Just pick up the pieces one at a time. \n",
      "\n",
      "I had depression during the first portion of my college years and ended up flunking a lot of classes. I was placed on academic probation and was seeing a counselor for suicidal tendencies and self harm. This was a drastic change from high school, where I was rank #2 out of my entire class and had full ride scholarship offers. I was able to make positive changes very slowly and eventually improved my grades. I had to retake a lot of courses of course but I still graduated on time by taking summer courses. I remember feeling as if I had ruined my entire life already so why now remove myself from the equation? Please believe me when I say your life isn't ruined. You'll be able to pay these bills off. You can work things out with your school. Your parents and friends are there for you to lean on for support. Just take it one step at a time. All of these problems can be fixed. The only thing that can't be fixed is death. \n",
      "===\n",
      "comment_id: 14 depression topic_id: 4 keywords: pretty, school, really, much, high, reading, get, think, lot, end\n",
      "---\n",
      "As someone a bit older, I can say this with some authority - pretty much everyone is attractive to some chunk of people.  One thing that happens in school is that people are afraid to appear different, so if they have tastes that lie outside the mainstream, they may very well be afraid to express them. I knew a couple guys who were into bigger girls, but were way too insecure to express it in high school. Not everyone - I'm not even sure most people - find the sort of default media-created concept of what is attractive to actually be attractive.  \n",
      "\n",
      "It sucks that you're on the wrong end of that sort of thing right now, but it will change with time.  And hell, if you're still in school, your body hasn't even finished developing.  You might look far more like how you want to look in a few years.\n",
      "===\n",
      "comment_id: 15 SuicideWatch topic_id: 36 keywords: friends, new, advice, worked, give, close, writing, friend, based, best\n",
      "---\n",
      "Hey there.\n",
      "\n",
      "I understand a lot of what you're saying. There is some bad advice on this subreddit that could be easily solved by going to the sidebar or directly to this post: http://www.reddit.com/r/SWResources/comments/igh87/concerned_but_dont_know_what_to_say_here_are_some/ .\n",
      "\n",
      "A lot of the people coming here are well intentioned but reddit tends to favor those with loud voices and angry messages so those often rub off onto others. \n",
      "\n",
      "While I can't really point you in a good direction for the defaults, you can find some very kind and supportive subreddits deep down in this website. One of my personal favorites at the moment is /r/TheChurchOfRogers which is based on kindness to others as if they were our neighbors (based on the show Mr. Roger's Neighborhood. Maybe browsing there can give you these better and safer feelings.\n",
      "\n",
      "Reddit is unfortunately a site taken over by the opinions of about 4000 people. If you ever look at the controversial tab of a subreddit or even scrolling far enough down, you'll find those hidden treasures of good comments. I hope you will find those same kinds of good comments under this post as well.\n",
      "\n",
      "Never be afraid to reply OP. I'll be expecting that orange envelope. \n",
      "===\n",
      "comment_id: 16 offmychest topic_id: 32 keywords: like, sounds, sounds like, yes, mother, needs, sorry, hear, father, fault\n",
      "---\n",
      "I like this perspective! Thank you.\n",
      "\n",
      "I'm a giver, sometimes to a fault. I don't do things for karma or exposure or what have you, but I'm just naturally super sensitive so I can't just sit around, especially when someone is down or needs a hand. It's one of those \"well wouldn't anyone do it because we are all human and that's what humans do?\" things, but apparently not. It sounds like you might be similar.\n",
      "\n",
      "It's hard to remember that, yes, some people are horrifically self-centered, but the reality is that most people are good but they just don't pick up on the little things, especially if they're not a giver by nature. \n",
      "\n",
      "===\n",
      "comment_id: 17 BipolarReddit topic_id: 42 keywords: people, like, think, things, know, one, person, something, lot, would\n",
      "---\n",
      "oh man I've been fantasizing about throwing a chair at this asshole barista in my coffee shop for day, and I don't seem to care about the consequences. I'm rapid-cycling and I'm of the opinion that the excess energy from hypomania paired with mixed state of depression equals violent behavior. I swing from being jovial and the life of the party to a bitter contentious mood that catches people off guard. I've lost almost every relationship I've had due to this pattern in the last three years, it's fucking lonely as hell.\n",
      "\n",
      "===\n",
      "comment_id: 18 BPD topic_id: 17 keywords: anxiety, doctor, therapy, medication, help, therapist, depression, also, helped, treatment\n",
      "---\n",
      "Oh awesome yea mu doctor said that I she could reduce my dose or I can take that for a little bit and see if my body adjust to the higher dose. I'd rather give it a little bit my BF is aware so he's keeping and eye out\n",
      " It's just been so long since I was this  happy I just want at least enjoy it for whatever it's is \n",
      "===\n",
      "comment_id: 19 depression topic_id: 18 keywords: get, go, time, would, could, back, something, maybe, find, want\n",
      "---\n",
      "I'm in the exact same boat... Everyday I wake up with such a depressive mindset. I have absolutely no drive and I have no reason to get up in the mornings. I have no friends, no job and I only attend college 3 times a week. \n",
      "\n",
      "Sometimes I have a sudden spurdge of happiness. Usually when I'm in a good mood I have my drive back, I want to do things. I want to make sure that I grasp onto my future and make a name for myself before its too late. I come up with all these plans on how I'm going to do this then booom depression hits me before I execute anything then it's back to being a depressive cu*t again. \n",
      "\n",
      "\n",
      "\n",
      "It's so hard to actually have drive when you have nothing to motivate you. I have 0 irk friends. My days consist of talking to people online who really have no real impact on my real life. \n",
      "I just can't handle it. My life right now is going nowhere, every day gets worse and worse, my grandparents who are basically my parents. They mean they world to me and it's so sad when I see them I know the time is getting closer and closer, their health is going down hill every day and it puts tears in my eyes. I'm typing this with tears running all over me. \n",
      "This post has gone out of hand. This is my feelings talking. I'm sorry if I've missed the objective of this post. I just needed somewhere to throw my emotions \n",
      "\n",
      "Thank you I wish all the best for you xxx\n",
      "===\n",
      "comment_id: 20 depression topic_id: 11 keywords: thanks, control, thank, told, feels, let, steps, appreciate, inside, feels like\n",
      "---\n",
      "Thank you for your reply :). I really appreciate it and I'm happy to hear that you've been taking the steps to healing. I've been too scared to tell anyone but I told a friend this morning and it feels like I'm getting a little lighter. I hope this isn't a temporary phase but I'm the type of person who really hides it all inside and I know it's not the way to go. You keep fighting too!\n",
      "===\n",
      "comment_id: 21 depression topic_id: 42 keywords: people, like, think, things, know, one, person, something, lot, would\n",
      "---\n",
      "Okay so you already know that you don't want to be in this rut anymore. Seems like you are currently stuck in this vicious cycle. What if you could take small steps towards getting back out there? I'm not saying completely quit smoking but what if you set little goals each day(every couple of days) and only allow yourself to smoke up after you complete the task? It's obvious that you care and that's huge! Also do you have any close friends that could help you with keeping on track...not like hovering over you but just like checking in? Sorry if this is intrusive-I'm new on reddit😄\n",
      "===\n",
      "comment_id: 22 OpiatesRecovery topic_id: 15 keywords: things, get, feel, thing, sometimes, feelings, bad, makes, think, one\n",
      "---\n",
      "Nope Grandma's bad. Real bad! \r\n",
      "\r\n",
      "The crying thing is is part of your recovery. They will come an go. You are exhausted, depressed and emotional. It is all part of the brain trying to clear itself. Screw on that smile and do what you have to. \r\n",
      "\r\n",
      "Good luck. You know you are tough enough to do this.  \n",
      "===\n",
      "comment_id: 23 ADHD topic_id: 6 keywords: http, com, www, http www, reddit, message, reddit com, www reddit, comments, please\n",
      "---\n",
      "As per the rules in the side bar, yes or no questions such as \"Does anyone else\" or \"Has anyone else\" (or variants thereof) are not allowed in post titles.  Please repost with a more specific question, such as \"How do you manage this symptom?\" instead of \"Does anyone else have this symptom.\"  You'll get better answers and more replies.  \n",
      "\n",
      "Please see the rule explanation [here](http://www.reddit.com/r/adhd/wiki/rules#wiki_ask_a_question_that_can_be_answered_with_simply_yes_or_no).\n",
      "\n",
      "We appreciate your understanding, thank you.\n",
      "\n",
      "\n",
      "*[I am a bot](/r/AutoModerator/comments/q11pu/what_is_automoderator/), and this action was performed automatically. No humans get notified of replies to this comment.  Please [contact the moderators of this subreddit](/message/compose?to=%2Fr%2FADHD) if you have any questions or concerns.*\n",
      "===\n",
      "comment_id: 24 offmychest topic_id: 18 keywords: get, go, time, would, could, back, something, maybe, find, want\n",
      "---\n",
      "THIS! Although some friends threw a small gathering, not my mom. My boyfriend's mom keeps trying to ruin our move, which is a good chunk why I've been feeling so down. You'd think she'd want to have us around or something, but nah. She's just got issues. Unfortunately, she's someone you can't really cut out.\n",
      "\n",
      "Where are you going to in a few months? \n",
      "===\n",
      "comment_id: 25 leaves topic_id: 18 keywords: get, go, time, would, could, back, something, maybe, find, want\n",
      "---\n",
      "You'll get there, just keep at it. Things do improve. Just stay strong. Get a routine going. Put a blue light filter on your phone, drink some caffein free tea, have a hot bath or shower, and cut out tech two hours before bed. Slowly you'll manage to get this under control. Goodluck!\n",
      "===\n",
      "comment_id: 26 offmychest topic_id: 40 keywords: definitely, mom, stopped, enjoy, stupid, nice, process, reason, moment, girlfriend\n",
      "---\n",
      "This situation is definitely perplexing. Except this, is there any other things of his behavior that confuses you?\n",
      "\n",
      "Without knowing his side, I am not sure what to think, but if does have a girlfriend at the moment he was with you, I wonder if you are better off without him...\n",
      "===\n",
      "comment_id: 27 offmychest topic_id: 18 keywords: get, go, time, would, could, back, something, maybe, find, want\n",
      "---\n",
      "I was in sales in the past but I loved it..there's books you can get that basically teach you sales skills. I read them but I found that it did come naturally to me..I'd chat to customers, get them to like me. Even with marketing, a lot of it involves teamwork but maybe you're someone who works better on your own?\n",
      "===\n",
      "comment_id: 28 Anxiety topic_id: 45 keywords: sure, post, make, op, speak, make sure, clear, offer, please, miss\n",
      "---\n",
      "Valium is great for dentist appointments. I see it prescribed all the time. \n",
      "\n",
      "You will still be able to complain if you feel the pain and it's not going to paralyze your muscles from being able to speak or move. Just make sure you take it 30 minutes to 1 hour before your appointment and make sure you have someone to drive you as this medication can make you dizzy and sleepy. \n",
      "===\n",
      "comment_id: 29 leaves topic_id: 27 keywords: day, days, every, time, quit, like, week, one, smoking, get\n",
      "---\n",
      "Different methods will work better for different people, and I think the mod said it best. If you are going to do it this way the most important thing is to set rules and goals to help you achieve quitting- and stick to them!\n",
      "\n",
      "Rules like no smoking alone, no smoking during the week, only smoking outside... whatever will help you to smoke less. And goals  like \"go 3 days without smoking, go one week without smoking, resist a craving...\"\n",
      "\n",
      "If you find yourself \"changing\" the rules or goals to justify getting high then it's not working.\n",
      "\n",
      "I want to suggest that by attempting to wean yourself off, you may be dragging out the withdrawl symptoms. Instead of going through a couple rough days/weeks and then feeling much better you might be making it last a lot longer, since every time you get high and feel better *temporarily* it's like starting back at day 1. You likely won't start feeling some of the benefits of quitting like a clear-head until much later. But as I said different methods work better for different people.\n",
      "\n",
      "If you feel like cold turkey isn't working for you, if you try making goals to go longer and longer without smoking, maybe you will start to see more of the benefits of quitting and be more dedicated to it. It's really hard to quit cold turkey when you still love weed, but if you notice how good you feel (after getting passed the withdrawls) and are more serious about quitting completely then cold turkey won't be so difficult.\n",
      "\n",
      "Best of luck quitting, making it entire days without smoking is a great accomplishment! If you take it one day at a time you can do it!\n",
      "===\n",
      "comment_id: 30 offmychest topic_id: 34 keywords: long, often, worry, short, sex, term, may, look, rather, face\n",
      "---\n",
      "Omg!  I went to SK on my first trip overseas!  I taught at a small hakwan in Nonsan City, outside Daejon!  I spent three amazing years in SK.  If you get homesick for some U.S. stuff over there, pm me and I can point you to a few places around the country to go to a great beach, a wonderful resort, a nifty castle and where to find the Americans.  :-)\n",
      "===\n",
      "comment_id: 31 offmychest topic_id: 28 keywords: thoughts, may, experience, change, mind, positive, think, thought, try, weight\n",
      "---\n",
      "Hmm.. I just made a post earlier about battling depression.. It was very upbeat and it made me question if people would judge me for it. Maybe some people might not believe that I have had it for a decade on and off and that I was diagnosed by a doctor(psychiatrist) who prescribed pills to me. I had a negative effect within days of taking those pills so I chose to go down the natural path, which takes a bit longer but I believe is longer term as well. It gives you the chance to discover things about yourself, deal with your problems in different ways and become more resilient. \n",
      "\n",
      "I chose to try and change my negative thoughts into something positive by forcing myself to do certain activities that benefited me. Every small step felt like I had the weight of the world on my shoulders but that's how you do it, step by step. We have to start somewhere and we can't rush recovery. Overall, the change is within yourself. Some people might judge and say that I'm not supposed to have this positive mind set. Like rocketshipray said, some people may seem happy on the outside but that doesn't mean that they're not struggling. It doesn't mean that they still aren't battling demons.\n",
      "\n",
      "Also, I agree with you wholly when you say that accepting something negative leads to worse outcomes. You're 100% right, people dwell on their situation because it's sort of like an addiction, an addiction to sadness. It gives a bittersweet comfort that we cannot grasp. If we force ourselves to smile, we can become happier, which is further proof of what you said.\n",
      "===\n",
      "comment_id: 32 offmychest topic_id: 48 keywords: like, time, got, never, felt, back, would, went, still, started\n",
      "---\n",
      " I once had a puppy when I was 6 or 7.. We were inseparable as any young outdoorsy girl and her pu ppy would be. We always went out exploring the woods around my family's yard together. I went to go climb a tree and the limb snapped causing me to land on my sweet puppy, killing him. I carried him bloody all the way home crying... I'm pretty sure I haven't climbed a tree since then and I am 21.  \n",
      "\n",
      "Accidents happened.. But at least all of his life he knew love. I am sorry for your loss.\n",
      "===\n",
      "comment_id: 33 BipolarReddit topic_id: 18 keywords: get, go, time, would, could, back, something, maybe, find, want\n",
      "---\n",
      "I hope you can get your medications sorted out. I personally like Wellbutrin a lot for many reasons if you want to look into it, but of course everyone's different.\n",
      "\n",
      "Also I meant to respond to the \"now i've basically fucked that all up\" in your OP: I don't see it that way. You can go forward living the way you want to live. You don't have to punish yourself for bad decisions made because of a real illness. It can be okay to forgive yourself and move on from there. \n",
      "===\n",
      "comment_id: 34 offmychest topic_id: 38 keywords: know, someone, tell, person, would, feel, want, say, way, relationship\n",
      "---\n",
      "I love that you are the way you are.  It speaks of your gentle soul.  \n",
      "\n",
      "And I am so sorry that these things happened to you.  It's tragic.  I really wish you had reported that guy and were tested.  \n",
      "\n",
      "Regardless, I think that you may need to hold off on being so caring and nurturing until you know more about the guy you're with.  I don't know for sure of course, but it seems like these guys get what *they* \"need\" and move on.\n",
      "\n",
      "Hopefully someone will come in here with actual advice.  Being a guy, a hetero guy, I really can't tell you anything that I would feel confident about.  \n",
      "\n",
      "I know that you should think more highly of yourself.  Of course you can have a relationship with a 'normal' guy.  That's not out of the question.\n",
      "\n",
      "But please don't take anyone else home that you don't know.  =/\n",
      "===\n",
      "comment_id: 35 OpiatesRecovery topic_id: 10 keywords: else, alone, anyone, others, answer, perhaps, yet, question, something, big\n",
      "---\n",
      "I answered the first one a few days ago, but here it is again. Sorry about the repeat. I had a friend that I had been fairly open with. I resolved to never lie to him. No matter how much I want to. \r\n",
      "\r\n",
      "My family really wasn't in a position to help, they have their own stuff. It is one of the things that put me over the top. \n",
      "===\n",
      "comment_id: 36 stopdrinking topic_id: 44 keywords: drinking, drink, sober, alcohol, aa, meeting, sobriety, meetings, clean, drunk\n",
      "---\n",
      "I think the scariest part of my experience is having been in your position and mindset when I picked up the first drink.  It was cough syrup belonging to my girlfriend on the bedside table.  I had no intention or desire to drink.  I was 17 months sober and life was good.  All of a sudden I was chugging half a bottle of cough syrup.  I immediately had that itch for more that no amount of alcohol or drugs can satisfy.  I was back to drinking within 24 hours.\n",
      "===\n",
      "comment_id: 37 BPD topic_id: 24 keywords: want, talk, friend, really, girl, talking, know, telling, someone, meet\n",
      "---\n",
      "She may very well be upset and that's ok she's allowed to be upset just as you are. I hope that she showed up tonight and if she didn't text her. And say I know your mad and that's fine but if you could please meet me somewhere I really need to talk to about something and I really need a friend I can talk to about this. 1st of she's a girl and we love soaking in a good story granted that's not what it' is but grabbing her attention is 1 st then telling her what's going on and how you feel if she is a true friend she is going to want to be there for you. It's hard to put your feeling on the line but if it's killing you, you need to know. \n",
      "===\n",
      "comment_id: 38 stopdrinking topic_id: 2 keywords: job, money, thinking, stop, hours, using, fix, spend, jobs, straight\n",
      "---\n",
      "I love this sort of approach.\n",
      "\n",
      "I like to assign numbers.  Say I wanted a drink today.  I'm pretty sure I could have one drink &amp; everything would be fine.  I also know I'm wrong about that, but I can't stop myself from thinking that way.\n",
      "\n",
      "So, OK, let's say I have one drink tonight.  If I'm wrong about it not becoming a problem, using my history as a guide, I'll probably drink for at least the next year straight. That's at least $7,000 right there. I'd have to start blowing tons of money on heartburn pills again. And then there's losing friends, jobs, the health impact, etc, all that stuff.  \n",
      "\n",
      "What's the chance of all of that happening?  Probably over 50%, but lets be conservative here &amp; assume that it's a 1 in 6 chance.  \n",
      "\n",
      "So here's the bet:  Roll a die.  If it comes up 1, you owe me $7,000, your job, your family, and a few years off your life.  (I'll accept payment in slavery.)  If it comes up 2,3,4,5, or 6, you owe me $5, and in exchange, I'll make sure you feel just a little bit more at ease for the next couple hours.  Maybe you'll giggle a couple times.\n",
      "\n",
      "Sound like a plan?\n",
      "\n",
      "Enjoy that Regan pleasure.  \n",
      "===\n",
      "comment_id: 39 depression topic_id: 45 keywords: sure, post, make, op, speak, make sure, clear, offer, please, miss\n",
      "---\n",
      "This is a reply to OP and also /u/strincheese13 and /u/elleundomiel.  \n",
      "\n",
      "It may seem like it, but please believe me that your future is far from ruined because of a bad year or two in school.  Sure, it may make things a bit tougher in some respects, but you are far from doomed because of it. For the vast majority of careers, especially that don't require post-graduate education/certification, no one even cares what your marks are, just that you completed it.  And that's not even getting into the many careers that are out there that don't even require degrees.\n",
      "===\n",
      "comment_id: 40 BPD topic_id: 17 keywords: anxiety, doctor, therapy, medication, help, therapist, depression, also, helped, treatment\n",
      "---\n",
      "Yea I noticed that today that some thing that would have had me in bed crying didn't even get to me. I am very aware which is scary and now looking back I've realized that I've had these quite often. The depression tend to out weigh the manic episode but then again I haven't really paid attention just dealing with the BPD is enough. \n",
      "\n",
      "===\n",
      "comment_id: 41 GetMotivated topic_id: 22 keywords: automatically, please, tags, automatically please, subreddit, concerns, image, contact, action, article\n",
      "---\n",
      "Your submission has been automatically removed because the title does not include one of the required tags. The tags are [Article] [Discussion] [Image] [Meta] [Story] [Text] [Tool] [Video]. **Please add the suitable tag and resubmit.**\n",
      "\n",
      "*[I am a bot](/r/AutoModerator/comments/q11pu/what_is_automoderator/), and this action was performed automatically. Please [contact the moderators of this subreddit](/message/compose?to=%2Fr%2FGetMotivated) if you have any questions or concerns.*\n",
      "===\n",
      "comment_id: 42 offmychest topic_id: 48 keywords: like, time, got, never, felt, back, would, went, still, started\n",
      "---\n",
      "It was cruel of your bullies to target your dying dad..that's low. Your feelings are perfectly understandable-you felt that you were outnumbered by all these bullies at the time and couldn't stand up for yourself so now you have revenge fantasies. I've been bullied in the past and had revenge fantasies in my head too. \n",
      "\n",
      "Ok, you didn't stand up for yourself back then however you can learn how to stand up for yourself now. I think that going to an assertiveness course could help you do this alongside going to a therapist.\n",
      "\n",
      "&gt; On the other end of the spectrum sometimes I get hyper aggressive over even small transgressions. My deep shame over never standing up for myself has made me extremely sensitive. Sometimes a friend will jokingly tease me over something and I just can't help but explode on them.\n",
      "\n",
      "I had this. I felt like I was being constantly picked on and I'd think \"omg enough already\". I'd oscillate from being too passive to being too aggressive because I had no idea how to be assertive..i.e. how to stand up for myself and how to have a sense of self-respect.\n",
      "\n",
      "&gt;  Every moment of my day I feel a deep anxiety welling up in my stomach. I get bad diarrhea from it sometimes.\n",
      "\n",
      "Go to your doctor about the anxiety...he/she will be able to give you some medication for this. Doing some relaxation exercises could help e.g. breathing exercises, yoga..something soothing basically. I found mindfulness very helpful too.\n",
      "\n",
      "&gt; I feel like all of my ideas are stupid \n",
      "\n",
      "I know that you feel this but just remember that you're very educated so obviously you do have good ideas. You are a responsible person so you do have a lot to offer people..it's just that your self-confidence and self-esteem is low after all the bullying. You have a skewed perspective on who you are-that you're seeing all the negative sides of who you are but not any of the amazing qualities of who you are. \n",
      "===\n",
      "comment_id: 43 SuicideWatch topic_id: 42 keywords: people, like, think, things, know, one, person, something, lot, would\n",
      "---\n",
      "Even though you are going through all of this pain you still care for others, and that's very admirable. I am truly sorry that you went through such a tough time with your breakup and I know you don't want to hear speeches about how \"it gets better\" or \"you'll feel better with time\" because no one can guarantee that and life is hard. Sometimes I'm so exhausted with the whole thing I just want to sleep for a few years and not wake up. I hear you, trust me. All I can say is that I went through a terrible breakup when I was your age, and later I actually met someone who was much MUCH better for me, so although I can't guarantee that will be the case for you, I would be willing to bet on it because time is on your side. My mom left my dad after 35 years of marriage and he's single at almost 60... Now when he says he's lonely I don't know what to say, you know? My mom was it for him. Maybe this person you lost was it for you. I hope not. I hope you stick it out a bit longer and see what happens next; I know you're hurting and you're lonely but you can survive this. Just be yourself, you are kind and intelligent... Someone even better might just come along and recognize that. In any case, I wish you the very best. You deserve better than heartbreak.\n",
      "===\n",
      "comment_id: 44 offmychest topic_id: 31 keywords: mental, health, disorder, physical, diagnosed, symptoms, mental health, illness, kid, must\n",
      "---\n",
      "Definitely perplexing. In terms of this situation, the fact he didn't seem too fussed either way about being caught seems odd, but it was online, so he could have been freaking out for all I know. I doubt it, but possible.\n",
      "\n",
      "Outside of the situation, he drinks a lot and seems to feel the need to always be out of his house. He's always *kinda* been like that, but it seems to have increased lately. So I can't exactly tell if it should concern me as much as it kinda does, or if it's just him. \n",
      "\n",
      "I have definitely taken myself out of the situation and it's just a waiting game to see if he rings me drunk again. However, I'm not about to cut him out completely because if there's more going on, I want to be there for him. \n",
      "===\n",
      "comment_id: 45 GetMotivated topic_id: 18 keywords: get, go, time, would, could, back, something, maybe, find, want\n",
      "---\n",
      "I'm a chronic procrastinator.  I always had good grades, but yeah, I had to fight myself for them. Here's my tips:\n",
      "\n",
      "1. Accept that you're a last minute person. You won't ever be the type of person that starts their paper three weeks before it's due, and leaves themselves a week for editing and proofreading. It's okay! A lot of people are like that, and in the working world it's actually valuable to be able to do things quickly. \n",
      "\n",
      "2. Have a workspace. I have a desk that I use for work and projects only. If I decide to start screwing around on the internet, I leave the desk. I also have music that I only play when I'm working -- this helps a lot.  I'm considering getting a candle or incense that I only burn when I'm working, since studies show that smell is closely tied to emotion.  \n",
      "\n",
      "3. Identify the emotion that is causing your procrastination. You may not recognize it, but there's something unpleasant you're avoiding besides just work. Trust me, procrastinators are not lazy people. Fear of failure/success? Fear of change? Boredom? Indecisiveness? I'm procrastinating on a paper right now because the topic I chose turned out not to be as good as I originally thought, and I'm mad at myself for choosing a bad topic, and feeling hopeless about getting a good grade on it. Believe it or not, it's a relief to know that, because then I can do some positive self-talk and get over it and move forward. \n",
      "\n",
      "4. Do only one thing at a time.  When you're feeling really pressured it's easy to jump around from task to task -- you read the first two paragraphs of the text, do half a practice problem, review the first half of the first day's lecture notes -- but it's all very superficial. Instead, take some deep breaths, and set one reasonable goal and finish it.  I find it's better to do something that's more active than passive -- doing problems, recopying lecture notes, copying formulas over and over.  It helps with the jitters.   \n",
      "\n",
      "5. Manage distractions.  At work I use Toggl to track how much time I spend on various projects. When I get an e-mail, rather than jumping right into it, I take a second and decide whether I want to change my Toggl tracker, or keep going with my current project.  That tiny extra second means that I prioritize much better. And if I find I let myself drift into something else, I just refocus on the project at hand -- it's like meditating. Forgive yourself and move on. \n",
      "\n",
      "Hopefully some of these will be helpful for you.  \n",
      "===\n",
      "comment_id: 46 offmychest topic_id: 29 keywords: sleep, free, hate, pm, much, feel, goes, tired, suicidal, better\n",
      "---\n",
      "I  come to this subreddit a lot, but this is the first story that genuinely broke my heart. I got tears in my eyes. My heart goes out to you, it really and truly does. I'm so so sorry. Don't blame yourself, unfortunately, accidents happen. Your little friend loved you so much and he would hate to see you so sad. If you need to talk, or just need a shoulder to cry on I know you have the support of everyone here, but feel free to pm me.\n",
      "===\n",
      "comment_id: 47 Anxiety topic_id: 17 keywords: anxiety, doctor, therapy, medication, help, therapist, depression, also, helped, treatment\n",
      "---\n",
      "I apologize for taking so long to respond. I wanted to wait until I read the actual article or at least did a quick skim. \n",
      "\n",
      "First of all, this is a systematic review of other studies and these things tend to be more prone to selection bias but we won't go too much into that. Anyways, in the article, it states: \"symptoms typically occur within a few days from drug discontinuation and last a few weeks\" which agrees with what I said about throwing your brain out of whack for a little while. The conclusion was that SSRIs can cause discontinuation problems which is true. That is not the same as causing depression. \n",
      "\n",
      "I don't know if you're able to see the article since most people can't unless they have a paid subscription or work in healthcare but it states later on in the article that the discontinuation symptoms were mostly caused in patients who discontinued abruptly. This also agrees with what I mentioned earlier about tapering off the medication. Yes, it's still possible to have side effects with tapering but far less likely. Additionally, we have to look at what they consider to be a symptom of \"discontinuation syndrome.\" In the article, it states things like fatigue, headache, diarrhea, etc. This is VERY different from discontinuation of SSRIs will cause depression. \n",
      "\n",
      "\n",
      "If you want, I can download the full article and send it to you. Let me know if there's some way I can help. Unfortunately, I know very little about CBT other than to recommend them but I have doctor friends to bug if you have any questions.\n",
      "===\n",
      "comment_id: 48 mentalhealth topic_id: 31 keywords: mental, health, disorder, physical, diagnosed, symptoms, mental health, illness, kid, must\n",
      "---\n",
      "Glad to hear your opinion, Indigo. Your comment on poor coping skills is rather on point. That'd be a good place to do some reflection, me-thinks. \n",
      "\n",
      "And you're definitely right about my yearning for psychiatric labels. I'd blame my curiosity on that; I can't stand to not know exactly what's going on. I know I know, I'm probably out of luck on that one with the inherent difficulty of psychology. \n",
      "\n",
      "As to what I've been diagnosed, I've been diagnosed with Major Depressive Disorder, SAD, GAD, OCD, ADD, and hallucinations triggered by deep seizures. That's off the top of my head, but that's the general overview of my mental health diagnosis. \n",
      "\n",
      "One thing I do know, this whole talk is reassuring and will definitely spark discussion with my next psychiatric meeting. \n",
      "===\n",
      "comment_id: 49 GetMotivated topic_id: 22 keywords: automatically, please, tags, automatically please, subreddit, concerns, image, contact, action, article\n",
      "---\n",
      "Your submission has been automatically removed because the title does not include one of the required tags. The tags are [Article] [Discussion] [Image] [Meta] [Story] [Text] [Tool] [Video]. **Please add the suitable tag and resubmit.**\n",
      "\n",
      "*[I am a bot](/r/AutoModerator/comments/q11pu/what_is_automoderator/), and this action was performed automatically. Please [contact the moderators of this subreddit](/message/compose?to=%2Fr%2FGetMotivated) if you have any questions or concerns.*\n",
      "===\n"
     ]
    }
   ],
   "source": [
    "num_comments = 50\n",
    "for comment_id in range(num_comments):\n",
    "    topic_id = np.argsort(doctopic[comment_id])[::-1][0]\n",
    "    print('comment_id:',\n",
    "          comment_id,\n",
    "          subreddit_id_all[comment_id],\n",
    "          'topic_id:',\n",
    "          topic_id,\n",
    "          'keywords:',\n",
    "           ls_keywords[topic_id])\n",
    "    print('---')\n",
    "    print(corpus_all[comment_id])\n",
    "    print('===')"
   ]
  },
  {
   "cell_type": "markdown",
   "metadata": {},
   "source": [
    "Return to [TOC](#Table-of-Contents)"
   ]
  }
 ],
 "metadata": {
  "kernelspec": {
   "display_name": "Python 2",
   "language": "python",
   "name": "python2"
  },
  "language_info": {
   "codemirror_mode": {
    "name": "ipython",
    "version": 2
   },
   "file_extension": ".py",
   "mimetype": "text/x-python",
   "name": "python",
   "nbconvert_exporter": "python",
   "pygments_lexer": "ipython2",
   "version": "2.7.12"
  }
 },
 "nbformat": 4,
 "nbformat_minor": 1
}
